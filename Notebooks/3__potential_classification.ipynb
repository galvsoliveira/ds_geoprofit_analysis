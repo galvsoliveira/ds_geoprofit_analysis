{
 "cells": [
  {
   "cell_type": "code",
   "execution_count": 1,
   "metadata": {},
   "outputs": [],
   "source": [
    "# importing libraries\n",
    "import pandas as pd\n",
    "import numpy as np\n",
    "import matplotlib.pyplot as plt\n",
    "import seaborn as sns\n",
    "\n",
    "import sys\n",
    "sys.path.append('..')\n",
    "from Scripts.utils import (train_model_with_grid_search, load_and_predict, run_boruta)\n",
    "\n",
    "# show all columns \n",
    "pd.set_option('display.max_columns', None)\n",
    "# show entire rows\n",
    "pd.set_option('display.max_rows', None)\n",
    "# show all values in a cell\n",
    "pd.set_option('display.max_colwidth', None)"
   ]
  },
  {
   "cell_type": "code",
   "execution_count": 2,
   "metadata": {},
   "outputs": [],
   "source": [
    "# importing the datasets\n",
    "clean_data_sp = pd.read_excel('../Data/clean_data_sp_w_revenue.xlsx')\n",
    "clean_data_rj = pd.read_excel('../Data/clean_data_rj.xlsx')"
   ]
  },
  {
   "cell_type": "code",
   "execution_count": 3,
   "metadata": {},
   "outputs": [
    {
     "name": "stdout",
     "output_type": "stream",
     "text": [
      "Melhores parâmetros: {'model__max_depth': None, 'model__min_samples_split': 2, 'model__n_estimators': 400}\n",
      "Modelo treinado e salvo com sucesso!\n",
      "Score no conjunto de treinamento: 0.9047101449275363\n",
      "Score no conjunto de teste: 0.9032258064516129\n"
     ]
    }
   ],
   "source": [
    "# classification with random forest\n",
    "from sklearn.ensemble import RandomForestClassifier\n",
    "\n",
    "X = clean_data_rj.drop(columns=['potencial','nome'], axis=1)\n",
    "y = clean_data_rj['potencial']\n",
    "\n",
    "# Definir o modelo\n",
    "model = RandomForestClassifier()\n",
    "\n",
    "param_grid = {\n",
    "    'model__n_estimators': [100, 200, 300, 400, 500],\n",
    "    'model__max_depth': [None, 3, 5, 7, 10],\n",
    "    'model__min_samples_split': [2, 3, 5, 10]\n",
    "}\n",
    "\n",
    "# Chamar a função para treinar o modelo com a busca em grade e salvar\n",
    "train_model_with_grid_search(X, y, model, param_grid, test_size=0.2, random_state=42, balance_training='under', save_path='../Models/rf_model_potential_rj.joblib')"
   ]
  },
  {
   "cell_type": "code",
   "execution_count": 13,
   "metadata": {},
   "outputs": [
    {
     "name": "stdout",
     "output_type": "stream",
     "text": [
      "Melhores parâmetros: {'model__max_depth': None, 'model__min_samples_split': 2, 'model__n_estimators': 400}\n",
      "Modelo treinado e salvo com sucesso!\n",
      "Score no conjunto de treinamento: 0.8699275362318841\n",
      "Score no conjunto de teste: 0.8709677419354839\n"
     ]
    }
   ],
   "source": [
    "# Criar o objeto Boruta\n",
    "boruta_selector = run_boruta(X, y, model, max_iter=1000, random_state=42)\n",
    "\n",
    "# Visualizar os resultados\n",
    "boruta_results = pd.DataFrame({'feature': X.columns, 'rank': boruta_selector.ranking_})\n",
    "boruta_results.sort_values(by='rank')\n",
    "\n",
    "X_filtered = boruta_selector.transform(X.values)\n",
    "X_sp_filtered = boruta_selector.transform(clean_data_sp.drop(columns=['nome'], axis=1).values)\n",
    "\n",
    "param_grid = {\n",
    "    'model__n_estimators': [100, 200, 300, 400, 500],\n",
    "    'model__max_depth': [None, 1, 2, 3, 5],\n",
    "    'model__min_samples_split': [2, 3, 4, 5]\n",
    "}\n",
    "train_model_with_grid_search(X_filtered, y, model, param_grid, test_size=0.2, random_state=42, balance_training='under', save_path='../Models/rf_model_potential_rj.joblib')"
   ]
  },
  {
   "cell_type": "code",
   "execution_count": 11,
   "metadata": {},
   "outputs": [],
   "source": [
    "# adicione uma coluna potencial_pred no clean_data_rj\n",
    "clean_data_sp['potencial'] = load_and_predict(X_sp_filtered, '../Models/rf_model_potential_rj.joblib')"
   ]
  },
  {
   "cell_type": "code",
   "execution_count": 12,
   "metadata": {},
   "outputs": [],
   "source": [
    "# export the data\n",
    "clean_data_sp.to_excel('../Data/clean_data_sp_w_revenue_w_potential.xlsx', index=False)"
   ]
  }
 ],
 "metadata": {
  "kernelspec": {
   "display_name": "Python 3",
   "language": "python",
   "name": "python3"
  },
  "language_info": {
   "codemirror_mode": {
    "name": "ipython",
    "version": 3
   },
   "file_extension": ".py",
   "mimetype": "text/x-python",
   "name": "python",
   "nbconvert_exporter": "python",
   "pygments_lexer": "ipython3",
   "version": "3.10.6"
  },
  "orig_nbformat": 4
 },
 "nbformat": 4,
 "nbformat_minor": 2
}
