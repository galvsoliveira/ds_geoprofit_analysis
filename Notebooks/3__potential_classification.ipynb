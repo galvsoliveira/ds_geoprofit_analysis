{
 "cells": [
  {
   "cell_type": "code",
   "execution_count": 15,
   "metadata": {},
   "outputs": [],
   "source": [
    "# importing libraries\n",
    "import pandas as pd\n",
    "import numpy as np\n",
    "import matplotlib.pyplot as plt\n",
    "import seaborn as sns\n",
    "\n",
    "import sys\n",
    "sys.path.append('..')\n",
    "from Scripts.utils import (train_model_with_grid_search, load_and_predict, run_boruta, run_lasso,scale_data)\n",
    "from sklearn.model_selection import train_test_split\n",
    "\n",
    "# show all columns \n",
    "pd.set_option('display.max_columns', None)\n",
    "# show entire rows\n",
    "pd.set_option('display.max_rows', None)\n",
    "# show all values in a cell\n",
    "pd.set_option('display.max_colwidth', None)"
   ]
  },
  {
   "cell_type": "code",
   "execution_count": 16,
   "metadata": {},
   "outputs": [],
   "source": [
    "# importing the datasets\n",
    "clean_data_sp = pd.read_excel('../Data/clean_data_sp_w_revenue.xlsx')\n",
    "clean_data_rj = pd.read_excel('../Data/clean_data_rj.xlsx')"
   ]
  },
  {
   "cell_type": "code",
   "execution_count": 17,
   "metadata": {},
   "outputs": [],
   "source": [
    "# classification with random forest\n",
    "from sklearn.ensemble import RandomForestClassifier\n",
    "\n",
    "X = clean_data_rj.drop(columns=['potencial','nome'], axis=1)\n",
    "y = clean_data_rj['potencial']\n",
    "X_sp = clean_data_sp[X.columns]"
   ]
  },
  {
   "cell_type": "code",
   "execution_count": 18,
   "metadata": {},
   "outputs": [
    {
     "name": "stdout",
     "output_type": "stream",
     "text": [
      "                   feature  rank\n",
      "0                população     1\n",
      "30         propDomiciliosC     1\n",
      "29         propDomiciliosB     1\n",
      "28         propDomiciliosA     1\n",
      "27           rendaMediaPop     1\n",
      "26              rendaTotal     1\n",
      "24  propDomiciliosCriancas     1\n",
      "23              domicilios     1\n",
      "21             domiciliosB     1\n",
      "20             domiciliosA     1\n",
      "19              popDe25a49     1\n",
      "18             faturamento     1\n",
      "17              rendaMedia     1\n",
      "31         propDomiciliosD     1\n",
      "32         propDomiciliosE     1\n",
      "7               popDe50a59     1\n",
      "13            domiciliosC1     1\n",
      "12            domiciliosB2     1\n",
      "11            domiciliosB1     1\n",
      "10            domiciliosA2     1\n",
      "9             domiciliosA1     1\n",
      "8              popMaisDe60     1\n",
      "6               popDe35a49     1\n",
      "5               popDe25a34     1\n",
      "4               popDe20a24     2\n",
      "3               popDe15a19     2\n",
      "14            domiciliosC2     3\n",
      "1                  popAte9     3\n",
      "22                popAte14     5\n",
      "2               popDe10a14     5\n",
      "25    propDomiciliosIdosos     6\n",
      "16             domiciliosE     7\n",
      "15             domiciliosD     8\n",
      "Best parameters: {'model__max_depth': None, 'model__min_samples_split': 2, 'model__n_estimators': 400}\n",
      "Model trained and saved successfully!\n",
      "Score on training set: 1.0\n",
      "Score on test set: 0.8709677419354839\n"
     ]
    }
   ],
   "source": [
    "# Definir o modelo\n",
    "model = RandomForestClassifier()\n",
    "\n",
    "X_train, X_test, y_train, y_test = train_test_split(X, y, test_size=0.2, random_state=42)\n",
    "\n",
    "# Criar o objeto Boruta\n",
    "boruta_selector, selected_features = run_boruta(X_train=X_train, y_train=y_train, X_test=X_test, estimator=model, max_iter=100, random_state=42)\n",
    "\n",
    "X_filtered = X[selected_features]\n",
    "X_sp_filtered = clean_data_sp[selected_features]\n",
    "\n",
    "param_grid = {\n",
    "    'model__n_estimators': [400],\n",
    "    'model__max_depth': [None, 1],\n",
    "    'model__min_samples_split': [2, 3]\n",
    "}\n",
    "\n",
    "train_model_with_grid_search(X_filtered, y, model, param_grid, test_size=0.2, random_state=42, balance_training='under', save_path='../Models/rf_model_potential_rj.joblib')"
   ]
  },
  {
   "cell_type": "code",
   "execution_count": 19,
   "metadata": {},
   "outputs": [
    {
     "name": "stdout",
     "output_type": "stream",
     "text": [
      "Best parameters: {'model__max_depth': None, 'model__min_samples_split': 3, 'model__n_estimators': 400}\n",
      "Model trained and saved successfully!\n",
      "Score on training set: 1.0\n",
      "Score on test set: 0.9032258064516129\n"
     ]
    }
   ],
   "source": [
    "param_grid = {\n",
    "    'model__n_estimators': [400],\n",
    "    'model__max_depth': [None, 1, 2],\n",
    "    'model__min_samples_split': [2, 3]\n",
    "}\n",
    "\n",
    "# Chamar a função para treinar o modelo com a busca em grade e salvar\n",
    "train_model_with_grid_search(X, y, model, param_grid, test_size=0.2, random_state=42, balance_training='under', scaling_method='standard', save_path='../Models/rf_model_potential_rj.joblib')"
   ]
  },
  {
   "cell_type": "code",
   "execution_count": 20,
   "metadata": {},
   "outputs": [],
   "source": [
    "# adicione uma coluna potencial_pred no clean_data_rj\n",
    "clean_data_sp = pd.read_excel('../Data/clean_data_sp_w_revenue.xlsx')\n",
    "clean_data_sp['potencial'] = load_and_predict(X_sp, '../Models/rf_model_potential_rj.joblib')"
   ]
  },
  {
   "cell_type": "code",
   "execution_count": 21,
   "metadata": {},
   "outputs": [],
   "source": [
    "# export the data\n",
    "clean_data_sp.to_excel('../Data/clean_data_sp_w_revenue_w_potential_1.xlsx', index=False)"
   ]
  }
 ],
 "metadata": {
  "kernelspec": {
   "display_name": "Python 3",
   "language": "python",
   "name": "python3"
  },
  "language_info": {
   "codemirror_mode": {
    "name": "ipython",
    "version": 3
   },
   "file_extension": ".py",
   "mimetype": "text/x-python",
   "name": "python",
   "nbconvert_exporter": "python",
   "pygments_lexer": "ipython3",
   "version": "3.10.6"
  },
  "orig_nbformat": 4
 },
 "nbformat": 4,
 "nbformat_minor": 2
}
